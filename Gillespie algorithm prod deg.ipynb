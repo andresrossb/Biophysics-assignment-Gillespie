{
 "cells": [
  {
   "cell_type": "code",
   "execution_count": 78,
   "metadata": {},
   "outputs": [],
   "source": [
    "import numpy as np\n",
    "import matplotlib.pyplot as plt"
   ]
  },
  {
   "cell_type": "code",
   "execution_count": 79,
   "metadata": {},
   "outputs": [],
   "source": [
    "t = 0\n",
    "init_s = 0\n",
    "init_n = 500\n",
    "state = np.asarray([init_s,init_n])\n",
    "tau = 0.1\n",
    "k = 100\n",
    "a_off = np.asarray([1/tau,100,k/tau])\n",
    "a_on = np.asarray([1/tau,10,k/tau])"
   ]
  },
  {
   "cell_type": "code",
   "execution_count": 90,
   "metadata": {
    "scrolled": false
   },
   "outputs": [],
   "source": [
    "full_state = []\n",
    "plot_j = []\n",
    "for i in range(20000):\n",
    "    if(state[0]==0):\n",
    "        a = a_off\n",
    "    else:\n",
    "        a = a_on\n",
    "    r1 = np.random.uniform(0,1)\n",
    "    t_next = -(1/sum(a))*np.log(r1)\n",
    "    t = t + t_next\n",
    "    r2 = np.random.uniform(0,1)\n",
    "    temp = []\n",
    "    for jT in range(len(a)):\n",
    "        if (sum(a[:jT+1]) > r2 * sum(a)):\n",
    "            temp.append(jT)\n",
    "    j = min(temp)\n",
    "    plot_j.append(j)\n",
    "    if(j==0):\n",
    "        state[1] = state[1] - 1\n",
    "    elif(j==1):\n",
    "        state[1] = state[1] + 1\n",
    "    elif(j==2):\n",
    "        state[0] = 1 - state[0]\n",
    "    full_state.append(state[1])"
   ]
  },
  {
   "cell_type": "code",
   "execution_count": 91,
   "metadata": {},
   "outputs": [
    {
     "data": {
      "text/plain": [
       "[<matplotlib.lines.Line2D at 0x1735a7952e8>]"
      ]
     },
     "execution_count": 91,
     "metadata": {},
     "output_type": "execute_result"
    },
    {
     "data": {
      "image/png": "[encoded data removed]",
      "text/plain": [
       "<Figure size 432x288 with 1 Axes>"
      ]
     },
     "metadata": {
      "needs_background": "light"
     },
     "output_type": "display_data"
    }
   ],
   "source": [
    "plt.plot(full_state)\n"
   ]
  },
  {
   "cell_type": "code",
   "execution_count": 84,
   "metadata": {},
   "outputs": [
    {
     "data": {
      "text/plain": [
       "[<matplotlib.lines.Line2D at 0x1735a632f28>]"
      ]
     },
     "execution_count": 84,
     "metadata": {},
     "output_type": "execute_result"
    },
    {
     "data": {
      "image/png": "[encoded data removed]",
      "text/plain": [
       "<Figure size 432x288 with 1 Axes>"
      ]
     },
     "metadata": {
      "needs_background": "light"
     },
     "output_type": "display_data"
    }
   ],
   "source": [
    "plt.plot(plot_j,'r.')"
   ]
  },
  {
   "cell_type": "code",
   "execution_count": null,
   "metadata": {},
   "outputs": [],
   "source": []
  },
  {
   "cell_type": "code",
   "execution_count": null,
   "metadata": {},
   "outputs": [],
   "source": []
  },
  {
   "cell_type": "code",
   "execution_count": null,
   "metadata": {},
   "outputs": [],
   "source": []
  }
 ],
 "metadata": {
  "kernelspec": {
   "display_name": "Python 3",
   "language": "python",
   "name": "python3"
  },
  "language_info": {
   "codemirror_mode": {
    "name": "ipython",
    "version": 3
   },
   "file_extension": ".py",
   "mimetype": "text/x-python",
   "name": "python",
   "nbconvert_exporter": "python",
   "pygments_lexer": "ipython3",
   "version": "3.7.3"
  }
 },
 "nbformat": 4,
 "nbformat_minor": 2
}
